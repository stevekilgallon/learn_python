{
 "cells": [
  {
   "cell_type": "markdown",
   "metadata": {},
   "source": [
    " # Using the interactive python Notebook. \n",
    "\n",
    "To use the notebook you need to select the block of code \"by clicking on the cell” and then click the Run button at the top of the page.\n",
    "You can alter the code inside the cell block and see what effect it has!\n"
   ]
  },
  {
   "cell_type": "markdown",
   "metadata": {},
   "source": [
    "## Plotting graphs with matplotlib   4."
   ]
  },
  {
   "cell_type": "markdown",
   "metadata": {},
   "source": [
    "### Subplots."
   ]
  },
  {
   "cell_type": "raw",
   "metadata": {},
   "source": [
    "Sometimes its useful to show two graphs on the same output, to do this we use Subplots."
   ]
  },
  {
   "cell_type": "code",
   "execution_count": null,
   "metadata": {},
   "outputs": [],
   "source": [
    "import matplotlib.pyplot as plt\n",
    "import numpy as np\n",
    "# evenly spaced interval\n",
    "x = np.arange(-3.14, 3.14, 0.01)\n",
    "# plot first graph\n",
    "plt.subplot(2, 1, 1)\n",
    "plt.title(\"sin\")\n",
    "plt.xlabel('x-axis')\n",
    "plt.ylabel('y-axis')\n",
    "sin_y = np.sin(x) # compute y - data\n",
    "plt.plot(x, sin_y,'r--',) # create plot\n",
    "plt.subplot(2, 1, 2)\n",
    "plt.title(\"cos\")\n",
    "plt.xlabel('x-axis')\n",
    "plt.ylabel('y-axis')\n",
    "cos_y = np.cos(x) # compute y - data\n",
    "plt.plot(x, cos_y,'b--',) # create plot\n",
    "plt.tight_layout()\n",
    "plt.show()\n"
   ]
  },
  {
   "cell_type": "markdown",
   "metadata": {},
   "source": [
    "```python\n",
    "subplot(numRows, numCols, plotNum)\n",
    "plt.subplot(2, 1, 1)\n",
    "This reads as: two rows of graphs and one column of graphs\n",
    "The number on the end is used to identify each individual graph\n",
    "```"
   ]
  },
  {
   "cell_type": "code",
   "execution_count": null,
   "metadata": {
    "scrolled": true
   },
   "outputs": [],
   "source": [
    "import matplotlib.pyplot as plt\n",
    "import numpy as np\n",
    "x = np.arange(-3.14, 3.14, 0.01) # create x-data\n",
    "# plot first graph\n",
    "plt.subplot(2, 2, 1)\n",
    "plt.title(\"sin\")\n",
    "plt.xlabel('x-axis')\n",
    "plt.ylabel('y-axis')\n",
    "sin_y = np.sin(x) # compute y - data\n",
    "plt.plot(x, sin_y,'r--',) # create plot\n",
    "plt.subplot(2, 2, 2)\n",
    "plt.title(\"cos\")\n",
    "plt.xlabel('x-axis')\n",
    "plt.ylabel('y-axis')\n",
    "cos_y = np.cos(x) # compute y - data\n",
    "plt.plot(x, cos_y,'b--',) # create plot\n",
    "plt.subplot(2, 2, 3)\n",
    "plt.title(\"sin 2x\")\n",
    "plt.xlabel('x-axis')\n",
    "plt.ylabel('y-axis')\n",
    "sin_2y = np.sin(2*x) # compute y - data\n",
    "plt.plot(x, sin_2y,'r--',) # create plot\n",
    "plt.subplot(2, 2, 4)\n",
    "plt.title(\"cos 2x\")\n",
    "plt.xlabel('x-axis')\n",
    "plt.ylabel('y-axis')\n",
    "cos_2y = np.cos(2*x) # compute y - data\n",
    "plt.plot(x, cos_2y,'b--',) # create plot\n",
    "plt.tight_layout()\n",
    "plt.show()\n"
   ]
  },
  {
   "cell_type": "markdown",
   "metadata": {},
   "source": [
    "```python\n",
    "plt.subplot(2, 2, x)\n",
    "This reads as: two rows of graphs and two column of graphs\n",
    "The number x on the end is used to identify each individual graph.\n",
    "```"
   ]
  }
 ],
 "metadata": {
  "kernelspec": {
   "display_name": "Python 3",
   "language": "python",
   "name": "python3"
  },
  "language_info": {
   "codemirror_mode": {
    "name": "ipython",
    "version": 3
   },
   "file_extension": ".py",
   "mimetype": "text/x-python",
   "name": "python",
   "nbconvert_exporter": "python",
   "pygments_lexer": "ipython3",
   "version": "3.7.4"
  }
 },
 "nbformat": 4,
 "nbformat_minor": 4
}
