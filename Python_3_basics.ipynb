{
 "cells": [
  {
   "cell_type": "markdown",
   "metadata": {},
   "source": [
    " # Using the interactive python Notebook. \n",
    "\n",
    "To use the notebook you need to select the block of code \"by clicking on the cell” and then click the Run button at the top of the page.\n",
    "You can alter the code inside the cell block and see what effect it has!\n"
   ]
  },
  {
   "cell_type": "markdown",
   "metadata": {},
   "source": [
    "# Python Basics Part 3."
   ]
  },
  {
   "cell_type": "markdown",
   "metadata": {},
   "source": [
    "## Getting User input"
   ]
  },
  {
   "cell_type": "code",
   "execution_count": 1,
   "metadata": {},
   "outputs": [
    {
     "name": "stdout",
     "output_type": "stream",
     "text": [
      "What is your name? ww\n",
      "Hello  ww\n"
     ]
    }
   ],
   "source": [
    "name = input(\"What is your name? \")\n",
    "\n",
    "print(\"Hello \",name)"
   ]
  },
  {
   "cell_type": "markdown",
   "metadata": {},
   "source": [
    "We can use a while loop to check that the user wants to go on."
   ]
  },
  {
   "cell_type": "code",
   "execution_count": null,
   "metadata": {},
   "outputs": [],
   "source": [
    "answer = input(\"Do you want to stop? enter yes or no \")\n",
    "\n",
    "while answer != \"yes\":\n",
    "        answer = input(\"Do you want to stop? \")\n",
    "     \n",
    "        print(\"OK lets carry on again...\")\n",
    "            \n",
    "print (\"Thank you, we will stop here \")"
   ]
  },
  {
   "cell_type": "markdown",
   "metadata": {},
   "source": [
    "We can also get and check numbers"
   ]
  },
  {
   "cell_type": "code",
   "execution_count": null,
   "metadata": {},
   "outputs": [],
   "source": [
    "num = input(\"give a number\")\n",
    "\n",
    "print(\"You entered \",num)"
   ]
  },
  {
   "cell_type": "markdown",
   "metadata": {},
   "source": [
    "Remember the two variables above \"name\" and \"num\" are not defined as strings or numbers until after the user enters their answer.\n",
    "\n",
    "We can now put this in a while loop so the user must give us an integer."
   ]
  },
  {
   "cell_type": "code",
   "execution_count": null,
   "metadata": {},
   "outputs": [],
   "source": [
    "try:\n",
    " num = int(input(\"give a number\"))\n",
    "except ValueError:\n",
    " print(\"not integer\")\n",
    "\n",
    "print(num)"
   ]
  },
  {
   "cell_type": "markdown",
   "metadata": {},
   "source": [
    "int(input(\"give a number\")) tells pyton to expect an integer.\n",
    "float(input(\"give a number\")) tells pyton to expect an decimal.\n",
    "\n",
    "Without the try …. except the program would just report an error, now it tells the user that an\n",
    "integer was needed. \n",
    "\n",
    "We can now put this in a while loop so the user can try again until they get it right"
   ]
  },
  {
   "cell_type": "code",
   "execution_count": null,
   "metadata": {},
   "outputs": [],
   "source": [
    "while True:\n",
    "    try:\n",
    "        x = int(input(\"Please enter a number: \"))\n",
    "        break\n",
    "    except ValueError:\n",
    "         print(\"Oops! That was no valid number. Try again...\")\n",
    "            \n",
    "print (\"Thank you, the number entered was \",x)\n"
   ]
  },
  {
   "cell_type": "markdown",
   "metadata": {},
   "source": [
    "The while True: starts an infinite loop\n",
    "Between the try and except the code is executed and if no error found the break keyword ends the\n",
    "loop. If an error is found the loop continues.\n",
    "\n",
    "****Make sure you are clear in telling the user what is required ********\n"
   ]
  },
  {
   "cell_type": "code",
   "execution_count": null,
   "metadata": {},
   "outputs": [],
   "source": [
    "name = input(\"What is your name?\") #comments work here too!\n",
    "\n",
    "print(\"Hi\", name, \"Let's fine the area of a rectangle\")\n",
    "width = float(input(\"What is the width of the rectangle ?\"))  #We allow for a float (decimal) input here\n",
    "height = float(input(\"What is the height of the rectangle ?\"))\n",
    "area = width * height\n",
    "\n",
    "print(\"The area is  \", area) "
   ]
  },
  {
   "cell_type": "markdown",
   "metadata": {},
   "source": [
    "Sometimes we want to give users a several choices, we can do this with the code below."
   ]
  },
  {
   "cell_type": "code",
   "execution_count": null,
   "metadata": {},
   "outputs": [],
   "source": [
    "choice = 1  #This sets an initial value to the variable we will use.\n",
    "\n",
    "while choice  != 5:  #!= does not =\n",
    "    choice = int(input(\"What choice 1,2,3,4, or 5 to end? \\n\"))\n",
    "                 \n",
    "   \n",
    "    if choice == 1:              #Notice how we have to use a double equals == to compare numbers.\n",
    "            print(\"you chose 1\")\n",
    "  \n",
    "    if choice == 2:\n",
    "             print(\"you chose 2\")\n",
    "\n",
    "    if choice == 3:\n",
    "             print(\"you chose 3\")\n",
    "        \n",
    "    if choice == 4:\n",
    "             print(\"you chose 4\")\n",
    "            \n",
    "print(\"\\n  you ended\")"
   ]
  },
  {
   "cell_type": "markdown",
   "metadata": {},
   "source": [
    "The code works well apart from if the user enters a non-integer, so it would be better to check the input (see above).\n",
    "Also if we used a \"function\" (see below) call for each choice we can keep the basic program very simple and neat."
   ]
  },
  {
   "cell_type": "markdown",
   "metadata": {},
   "source": [
    "## If Else"
   ]
  },
  {
   "cell_type": "code",
   "execution_count": null,
   "metadata": {},
   "outputs": [],
   "source": [
    "temperature = float(input('What is the temperature? '))\n",
    "if temperature > 25:\n",
    "    print('To the beach.')\n",
    "elif temperature > 20:\n",
    "     print('To the cinema.')\n",
    "else:\n",
    "     print('stay at home')"
   ]
  },
  {
   "cell_type": "markdown",
   "metadata": {},
   "source": [
    "temperature = float(input('What is the temperature? '))\n",
    "This tells python to expect a fload (decimal number)\n",
    "You could add a loop in to make sure that the values were sensible."
   ]
  },
  {
   "cell_type": "markdown",
   "metadata": {},
   "source": [
    "# Functions."
   ]
  },
  {
   "cell_type": "markdown",
   "metadata": {},
   "source": [
    "Most of the time when programming we want to give structure to the code in order to make it easier to follow and reuse. The way we do this is by defining functions. \n",
    "Below\n",
    "\n",
    "The functions are defined first and then called in the main body of the programme.\n",
    "\n",
    "**def greeting():** Here the open brackets () mean that the function does not\n",
    "take any input. No values returned to the main programme.\n",
    "\n",
    "**def square(x):** Here the (x) mean that the function needs some input.\n",
    "and returns one output.\n",
    "\n",
    "**def add(a,b):** Here the (a,b) mean that the function needs two inputs,\n",
    "and returns one output."
   ]
  },
  {
   "cell_type": "code",
   "execution_count": null,
   "metadata": {},
   "outputs": [],
   "source": [
    "#First we define the functions.\n",
    "\n",
    "def greeting(): #defines a function\n",
    "\n",
    "    print(\"Hello to functions\") #This function just prints out the greeting.\n",
    "        \n",
    "def square(x):\n",
    "    return x * x    #This function squares the number it gets from the main program\n",
    "                    #and sends back the answer.\n",
    "\n",
    "def add(a,b):\n",
    "    return a + b    #This function adds the two numbers it gets from the main program\n",
    "                    #and sends back the answer.\n",
    "\n",
    "#main proigram starts here\n",
    "\n",
    "print(\"Calling the function\")\n",
    "\n",
    "greeting()  #We don't have to pass anything to this function\n",
    "\n",
    "print(square(2)) #We need to give the square function a value to work on.\n",
    "\n",
    "print(add(3,5)) #We need to give the add function two values to work on.\n",
    "\n",
    "print(\"\") #add a space\n",
    "\n",
    "for i in range(5):\n",
    "    print(i, '*', i, '=', square(i))\n",
    "\n",
    "j = 2\n",
    "for i in range(5):\n",
    "    print(i, '+', j, '=', add(i,j)) "
   ]
  },
  {
   "cell_type": "markdown",
   "metadata": {},
   "source": [
    "For the choice programe above we could call a function for each option."
   ]
  },
  {
   "cell_type": "code",
   "execution_count": null,
   "metadata": {},
   "outputs": [],
   "source": [
    "choice = 1  #This sets an initial value to the variable we will use.\n",
    "\n",
    "while choice  != 5:  #!= does not =\n",
    "    choice = int(input(\"What choice 1,2,3,4, or 5 to end? \\n\"))\n",
    "                 \n",
    "   \n",
    "    if choice == 1:              #Notice how we have to use a double equals == to compare numbers.\n",
    "            print(\"Call function 1 to do something\")\n",
    "  \n",
    "    if choice == 2:\n",
    "             print(\"Call function 2 to do something\")\n",
    "\n",
    "    if choice == 3:\n",
    "             print(\"Call function 3 to do something\")\n",
    "        \n",
    "    if choice == 4:\n",
    "             print(\"Call function 4 to do something\")\n",
    "            \n",
    "print(\"\\n  you ended\")"
   ]
  },
  {
   "cell_type": "markdown",
   "metadata": {},
   "source": [
    "## Tutorials 1 ans 2"
   ]
  }
 ],
 "metadata": {
  "kernelspec": {
   "display_name": "Python 3",
   "language": "python",
   "name": "python3"
  },
  "language_info": {
   "codemirror_mode": {
    "name": "ipython",
    "version": 3
   },
   "file_extension": ".py",
   "mimetype": "text/x-python",
   "name": "python",
   "nbconvert_exporter": "python",
   "pygments_lexer": "ipython3",
   "version": "3.7.4"
  }
 },
 "nbformat": 4,
 "nbformat_minor": 4
}
