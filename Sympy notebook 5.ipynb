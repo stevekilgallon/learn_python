{
 "cells": [
  {
   "cell_type": "markdown",
   "metadata": {},
   "source": [
    "# Sympy part 5 - Symbolic algebra in Python"
   ]
  },
  {
   "cell_type": "markdown",
   "metadata": {},
   "source": [
    "This file is an IPython notebook:\n",
    "\n",
    "You need to select the code blocks In [ ] and click the Run button at the top to see what the code does.\n",
    "You can also alter the code and re-run it to see what happens.\n",
    "\n",
    "To start with select the first In [ ] below and run it then the next In [ ] etc."
   ]
  },
  {
   "cell_type": "markdown",
   "metadata": {},
   "source": [
    "#  Solving equations using Solve."
   ]
  },
  {
   "cell_type": "markdown",
   "metadata": {},
   "source": [
    "We have to be careful when defining your equations you can't say $x^2+2x+4=0$ since the = sign in python assigns values from right side operands to left side operand so $x^2+2x+4=0$ assignes $0$ to $x^2+2x+4$ !!\n",
    "\n",
    "We have a couple of ways of getting around this. The easiest way is to rewrite the equations as  $x^2+2x+-4$"
   ]
  },
  {
   "cell_type": "markdown",
   "metadata": {},
   "source": [
    "SymPy’s solve() function can be used to find solutions to equations.\n"
   ]
  },
  {
   "cell_type": "code",
   "execution_count": null,
   "metadata": {},
   "outputs": [],
   "source": [
    "import sympy\n",
    "\n",
    "x = sympy.symbols('x')\n",
    "expr = x-10\n",
    "sympy.solve(expr, x)"
   ]
  },
  {
   "cell_type": "markdown",
   "metadata": {},
   "source": [
    "The way this works is that the solve function sets the expression to 0 and then this equation is solved. The x in sympy.solve(expr, x) indicates what the answer is in terms of."
   ]
  },
  {
   "cell_type": "markdown",
   "metadata": {},
   "source": [
    "Now lets try a quadratic."
   ]
  },
  {
   "cell_type": "code",
   "execution_count": null,
   "metadata": {},
   "outputs": [],
   "source": [
    "import sympy\n",
    "\n",
    "x = sympy.symbols('x')\n",
    "expr = x**2+5*x+4\n",
    "sympy.solve(expr, x)"
   ]
  },
  {
   "cell_type": "markdown",
   "metadata": {},
   "source": [
    "Similarly solve sets $x^2+5x+4=0$ and then solves this."
   ]
  },
  {
   "cell_type": "markdown",
   "metadata": {},
   "source": [
    "# Task\n",
    "Alter the above so that we get complex roots, see how the solutions look."
   ]
  },
  {
   "cell_type": "markdown",
   "metadata": {},
   "source": [
    "# System of equations:"
   ]
  },
  {
   "cell_type": "markdown",
   "metadata": {},
   "source": [
    "To solve the two simutaneous equations:\n",
    "$\\\\x+y=1 \\\\  x-y=1 \\\\ $\n",
    "\n",
    "$\\\\ $ The format is solve([equation 1 set to zero , equation 2 set to zero], [variables you want to solve])"
   ]
  },
  {
   "cell_type": "code",
   "execution_count": null,
   "metadata": {},
   "outputs": [],
   "source": [
    "#we write the two equations as:-\n",
    "import sympy\n",
    "x,y = sympy.symbols('x,y')\n",
    "sympy.solve([x + y - 1, x - y - 1], [x,y])"
   ]
  },
  {
   "cell_type": "markdown",
   "metadata": {},
   "source": [
    "# Task\n",
    "Solve the folowing simultaneous equations: $2x+3y=8 \\\\ 3x+2y=7$"
   ]
  },
  {
   "cell_type": "code",
   "execution_count": null,
   "metadata": {},
   "outputs": [],
   "source": [
    "#Put your code here"
   ]
  },
  {
   "cell_type": "markdown",
   "metadata": {},
   "source": [
    "# Task\n",
    "Solve the folowing simultaneous equations: $x+y-z=4 \\\\ x-2y+3z=-6 \\\\ 2x+3y+z=7$"
   ]
  },
  {
   "cell_type": "code",
   "execution_count": null,
   "metadata": {},
   "outputs": [],
   "source": [
    "#Put your code here"
   ]
  },
  {
   "cell_type": "markdown",
   "metadata": {},
   "source": [
    "We can also solve symbolic equations like $x+y=a \\\\ x-y=c$"
   ]
  },
  {
   "cell_type": "code",
   "execution_count": null,
   "metadata": {},
   "outputs": [],
   "source": [
    "a,c = sympy.symbols('a,c')\n",
    "sympy.solve([x + y - a, x - y - c], [x,y])"
   ]
  },
  {
   "cell_type": "markdown",
   "metadata": {},
   "source": [
    "Since this involves several variables we have to specify what we want the answers in terms of, here we want [x,y]"
   ]
  },
  {
   "cell_type": "markdown",
   "metadata": {},
   "source": [
    "# Plotting using SymPy\n",
    "Previously to plot the graph we had to calculate an array of x and y values and plot them against easch other\n",
    "With SymPy you can just tell SymPy the equation of the line you want to plot, and the graph willbe created for you. \n",
    "Let’s plot a line whose equation is given by y = 2x + 3:"
   ]
  },
  {
   "cell_type": "code",
   "execution_count": null,
   "metadata": {},
   "outputs": [],
   "source": [
    "import sympy\n",
    "x = sympy.Symbol('x')\n",
    "p1=sympy.plot(2*x+3)\n",
    "\n",
    "\n"
   ]
  },
  {
   "cell_type": "markdown",
   "metadata": {},
   "source": [
    "The plot function has lots of options to play around with for example to set a range of -5 to +5"
   ]
  },
  {
   "cell_type": "code",
   "execution_count": null,
   "metadata": {},
   "outputs": [],
   "source": [
    "import sympy\n",
    "x = sympy.Symbol('x')\n",
    "p1=sympy.plot((2*x+3), (x, -5, 5))"
   ]
  },
  {
   "cell_type": "markdown",
   "metadata": {},
   "source": [
    "And we can plot multiple curves on the same graph."
   ]
  },
  {
   "cell_type": "code",
   "execution_count": null,
   "metadata": {},
   "outputs": [],
   "source": [
    "import sympy\n",
    "x = sympy.Symbol('x')\n",
    "p1=sympy.plot(2*x+3, 3*x+1, legend=True)"
   ]
  },
  {
   "cell_type": "markdown",
   "metadata": {},
   "source": [
    "# Task\n",
    "Open up spyder and reproduce the above so that you are happy using these new functions."
   ]
  },
  {
   "cell_type": "markdown",
   "metadata": {},
   "source": [
    "## Further reading"
   ]
  },
  {
   "cell_type": "markdown",
   "metadata": {},
   "source": [
    "* http://sympy.org/en/index.html - The SymPy projects web page.\n",
    "* https://github.com/sympy/sympy - The source code of SymPy.\n",
    "* http://live.sympy.org - Online version of SymPy for testing and demonstrations."
   ]
  }
 ],
 "metadata": {
  "kernelspec": {
   "display_name": "Python 3",
   "language": "python",
   "name": "python3"
  },
  "language_info": {
   "codemirror_mode": {
    "name": "ipython",
    "version": 3
   },
   "file_extension": ".py",
   "mimetype": "text/x-python",
   "name": "python",
   "nbconvert_exporter": "python",
   "pygments_lexer": "ipython3",
   "version": "3.7.1"
  }
 },
 "nbformat": 4,
 "nbformat_minor": 1
}
