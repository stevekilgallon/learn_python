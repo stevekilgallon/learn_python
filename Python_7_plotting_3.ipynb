{
 "cells": [
  {
   "cell_type": "markdown",
   "metadata": {},
   "source": [
    " # Using the interactive python Notebook. \n",
    "\n",
    "To use the notebook you need to select the block of code \"by clicking on the cell” and then click the Run button at the top of the page.\n",
    "You can alter the code inside the cell block and see what effect it has!\n"
   ]
  },
  {
   "cell_type": "markdown",
   "metadata": {},
   "source": [
    "## Plotting graphs with matplotlib   3."
   ]
  },
  {
   "cell_type": "markdown",
   "metadata": {},
   "source": [
    "# Do this in spyder!!!!!!"
   ]
  },
  {
   "cell_type": "markdown",
   "metadata": {},
   "source": [
    "### Importing data"
   ]
  },
  {
   "cell_type": "markdown",
   "metadata": {},
   "source": [
    "In a lot of situations you need to get data from external sources into your python code,\n",
    "below shows you how to do this. We are going to import a “csv” file csv stands for “comer\n",
    "separated value” eg 2,3,4,5,6. This is a really popular way to package up data and in excel\n",
    "you can save data in this format. The data we are going to import is shown below. First you\n",
    "need to past it into notepad and save it as a csv file, call it data1.csv (take care that your file\n",
    "extensions are visible (see me if this does not make sense)) There is a copy on\n",
    "studentcentral if you have a problem."
   ]
  },
  {
   "cell_type": "markdown",
   "metadata": {},
   "source": [
    "```python\n",
    "import matplotlib.pyplot as plt\n",
    "import csv\n",
    "x = []\n",
    "y = []\n",
    "with open('data.csv','r') as csvfile:\n",
    " plots = csv.reader(csvfile, delimiter=',')\n",
    " for row in plots:\n",
    " x.append(int(row[0]))\n",
    " y.append(int(row[1]))\n",
    "plt.plot(x,y, label='Loaded from file!')\n",
    "plt.xlabel('x')\n",
    "plt.ylabel('y')\n",
    "plt.title('Interesting Graph\\nCheck it out')\n",
    "plt.legend()\n",
    "plt.show()\n",
    "```"
   ]
  },
  {
   "cell_type": "markdown",
   "metadata": {},
   "source": [
    "Here the program loops through every row of the file and puts the first value as x and the\n",
    "second value (i.e after the ,) as y."
   ]
  },
  {
   "cell_type": "markdown",
   "metadata": {},
   "source": [
    "**Life is easier if we use numpy!**"
   ]
  },
  {
   "cell_type": "markdown",
   "metadata": {},
   "source": [
    "```python\n",
    "import matplotlib.pyplot as plt\n",
    "import numpy as np\n",
    "x, y = np.loadtxt('data1.csv', delimiter=',', unpack=True)\n",
    "plt.plot(x,y, label='Loaded from file!')\n",
    "plt.xlabel('x')\n",
    "plt.ylabel('y')\n",
    "plt.title('Interesting Graph\\nCheck it out')\n",
    "plt.legend()\n",
    "plt.show()\n",
    "```"
   ]
  },
  {
   "cell_type": "markdown",
   "metadata": {},
   "source": [
    "We can import more than two lines, below we import x, a and b values from the data file\n",
    "(data2.csv)"
   ]
  },
  {
   "cell_type": "markdown",
   "metadata": {},
   "source": [
    "```python\n",
    "import matplotlib.pyplot as plt\n",
    "import numpy as np\n",
    "x, a,b = np.loadtxt('data2.csv', delimiter=',', unpack=True)\n",
    "plt.plot(x,a,b, label='Loaded from file!')\n",
    "plt.xlabel('x')\n",
    "plt.ylabel('values')\n",
    "plt.title('Interesting Graph\\nCheck it out')\n",
    "plt.legend()\n",
    "plt.show()\n",
    "```"
   ]
  },
  {
   "cell_type": "code",
   "execution_count": null,
   "metadata": {},
   "outputs": [],
   "source": []
  }
 ],
 "metadata": {
  "kernelspec": {
   "display_name": "Python 3",
   "language": "python",
   "name": "python3"
  },
  "language_info": {
   "codemirror_mode": {
    "name": "ipython",
    "version": 3
   },
   "file_extension": ".py",
   "mimetype": "text/x-python",
   "name": "python",
   "nbconvert_exporter": "python",
   "pygments_lexer": "ipython3",
   "version": "3.7.4"
  }
 },
 "nbformat": 4,
 "nbformat_minor": 4
}
