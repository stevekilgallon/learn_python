{
 "cells": [
  {
   "cell_type": "markdown",
   "metadata": {},
   "source": [
    " # Using the interactive python Notebook. \n",
    "\n",
    "To use the notebook you need to select the block of code \"by clicking on the cell” and then click the Run button at the top of the page.\n",
    "You can alter the code inside the cell block and see what effect it has!\n"
   ]
  },
  {
   "cell_type": "markdown",
   "metadata": {},
   "source": [
    "## Plotting graphs with matplotlib   3."
   ]
  },
  {
   "cell_type": "markdown",
   "metadata": {},
   "source": [
    "# Do this in spyder!!!!!!"
   ]
  },
  {
   "cell_type": "markdown",
   "metadata": {},
   "source": [
    "### Importing data"
   ]
  },
  {
   "cell_type": "markdown",
   "metadata": {},
   "source": [
    "In a lot of situations you need to get data from external sources into your python code,\n",
    "below shows you how to do this. We are going to import a “csv” file csv stands for “comer\n",
    "separated value” eg 2,3,4,5,6. This is a really popular way to package up data and in excel\n",
    "you can save data in this format.<br>\n",
    "The data we will be using for the work below can be found and downloaded from studentcentral.<br>\n",
    "\n",
    "If you have data to export from excel then you need to save the excel sheet as a \"cvs\" file, the you can import it.<br>\n",
    "(It helps is your file extensions are visible see me if this does not make sense). "
   ]
  },
  {
   "cell_type": "markdown",
   "metadata": {},
   "source": [
    "**We will use numpy!**"
   ]
  },
  {
   "attachments": {},
   "cell_type": "markdown",
   "metadata": {},
   "source": [
    "```python\n",
    "1\t5\n",
    "2\t3\n",
    "3\t4\n",
    "4\t7\n",
    "5\t4\n",
    "6\t3\n",
    "7\t5\n",
    "8\t7\n",
    "9\t4\n",
    "10  4\n",
    "```\n"
   ]
  },
  {
   "cell_type": "markdown",
   "metadata": {},
   "source": [
    "```python\n",
    "import matplotlib.pyplot as plt\n",
    "import numpy as np\n",
    "\n",
    "x, y = np.loadtxt('data1.csv', delimiter=',', unpack=True)\n",
    "plt.plot(x,y, label='Loaded from file!')\n",
    "\n",
    "plt.xlabel('x')\n",
    "plt.ylabel('y')\n",
    "plt.title('Interesting Graph\\nCheck it out')\n",
    "plt.legend()\n",
    "plt.show()\n",
    "```"
   ]
  },
  {
   "cell_type": "markdown",
   "metadata": {},
   "source": [
    "We can import more than two lines, below we import x, a and b values from the data file\n",
    "(data2.csv)"
   ]
  },
  {
   "cell_type": "markdown",
   "metadata": {},
   "source": [
    "```python\n",
    "import matplotlib.pyplot as plt\n",
    "import numpy as np\n",
    "\n",
    "x, a,b = np.loadtxt('data2.csv', delimiter=',', unpack=True)\n",
    "plt.plot(x,a,b, label='Loaded from file!')\n",
    "\n",
    "plt.xlabel('x')\n",
    "plt.ylabel('values')\n",
    "plt.title('Interesting Graph\\nCheck it out')\n",
    "plt.legend()\n",
    "plt.show()\n",
    "```"
   ]
  },
  {
   "cell_type": "code",
   "execution_count": null,
   "metadata": {},
   "outputs": [],
   "source": []
  }
 ],
 "metadata": {
  "kernelspec": {
   "display_name": "Python 3",
   "language": "python",
   "name": "python3"
  },
  "language_info": {
   "codemirror_mode": {
    "name": "ipython",
    "version": 3
   },
   "file_extension": ".py",
   "mimetype": "text/x-python",
   "name": "python",
   "nbconvert_exporter": "python",
   "pygments_lexer": "ipython3",
   "version": "3.7.4"
  }
 },
 "nbformat": 4,
 "nbformat_minor": 4
}
