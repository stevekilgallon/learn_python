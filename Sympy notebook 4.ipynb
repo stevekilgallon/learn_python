{
 "cells": [
  {
   "cell_type": "markdown",
   "metadata": {},
   "source": [
    "# Sympy part 4 - Symbolic algebra in Python"
   ]
  },
  {
   "cell_type": "markdown",
   "metadata": {},
   "source": [
    "This file - an IPython notebook:\n",
    "\n",
    "You need to select the code blocks In [ ] and click the Run button at the top to see what the code does.\n",
    "You can also alter the code and re-run it to see what happens.\n",
    "\n",
    "To start with select the first In [ ] below and run it then the next In [ ] etc."
   ]
  },
  {
   "cell_type": "markdown",
   "metadata": {},
   "source": [
    "#  Getting users to input a function."
   ]
  },
  {
   "cell_type": "markdown",
   "metadata": {},
   "source": [
    "We can use the input function to get a user to give us a function to work with.\n",
    "\n",
    "user_function = input(\"Give us a function\")\n",
    "\n",
    "However it will treat this input as a string so we need to convert this into an expression using the symify function.\n"
   ]
  },
  {
   "cell_type": "code",
   "execution_count": 7,
   "metadata": {},
   "outputs": [
    {
     "name": "stdout",
     "output_type": "stream",
     "text": [
      "Give a function using a,b,c as variable \n",
      "3*x+2*x**2\n",
      "The function is  2*x**2 + 3*x\n"
     ]
    }
   ],
   "source": [
    "import sympy\n",
    "\n",
    "user_function = input(\"Give a function \\n\")\n",
    "f = sympy.sympify(user_function)\n",
    "print(\"The function is \", f)\n",
    "\n"
   ]
  },
  {
   "cell_type": "markdown",
   "metadata": {},
   "source": [
    "Now we have the function we can use it as in the previous notebooks."
   ]
  },
  {
   "cell_type": "code",
   "execution_count": 5,
   "metadata": {},
   "outputs": [
    {
     "name": "stdout",
     "output_type": "stream",
     "text": [
      "2*a + 2*b + 2*c\n",
      "(a + b + c)**2\n",
      "a**3 + 3*a**2*b + 3*a**2*c + 3*a*b**2 + 6*a*b*c + 3*a*c**2 + b**3 + 3*b**2*c + 3*b*c**2 + c**3\n"
     ]
    }
   ],
   "source": [
    "print(2*f)\n",
    "print(f**2)\n",
    "print(sympy.expand(f**3))"
   ]
  },
  {
   "cell_type": "markdown",
   "metadata": {},
   "source": [
    "# Exception Handling"
   ]
  },
  {
   "cell_type": "markdown",
   "metadata": {},
   "source": [
    "When an error occurs, or exception as we call it, Python will normally stop and generate an error message.\n",
    "\n",
    "These exceptions can be handled using the try statement:"
   ]
  },
  {
   "cell_type": "code",
   "execution_count": null,
   "metadata": {},
   "outputs": [],
   "source": [
    "try:\n",
    "  print(x) \n",
    "except:\n",
    "  print(\"An exception occurred\")"
   ]
  },
  {
   "cell_type": "markdown",
   "metadata": {},
   "source": [
    "Fix the problem and re run"
   ]
  },
  {
   "cell_type": "markdown",
   "metadata": {},
   "source": [
    "So we can check that the inputs to the functions are OK before we go on."
   ]
  },
  {
   "cell_type": "code",
   "execution_count": 3,
   "metadata": {},
   "outputs": [
    {
     "name": "stdout",
     "output_type": "stream",
     "text": [
      "Enter the first expression: 2x\n",
      "Enter the second expression: 3\n",
      "Invalid input\n"
     ]
    }
   ],
   "source": [
    "#Here we ask for two expressions and make sure we get valid ones before adding them together\n",
    "\n",
    "import sympy\n",
    "\n",
    "expr1 = input('Enter the first expression: ')\n",
    "expr2 = input('Enter the second expression: ')\n",
    "\n",
    "try:\n",
    "    expr1 = sympy.sympify(expr1)\n",
    "    expr2 = sympy.sympify(expr2)\n",
    "except sympy.SympifyError:\n",
    "    print('Invalid input')\n",
    "else:\n",
    "    print(expr1+expr2)"
   ]
  },
  {
   "cell_type": "markdown",
   "metadata": {},
   "source": [
    "We could put this in a loop so the user gets another chance to enter the function."
   ]
  },
  {
   "cell_type": "markdown",
   "metadata": {},
   "source": [
    "## Further reading"
   ]
  },
  {
   "cell_type": "markdown",
   "metadata": {},
   "source": [
    "* http://sympy.org/en/index.html - The SymPy projects web page.\n",
    "* https://github.com/sympy/sympy - The source code of SymPy.\n",
    "* http://live.sympy.org - Online version of SymPy for testing and demonstrations."
   ]
  },
  {
   "cell_type": "markdown",
   "metadata": {},
   "source": [
    "## Versions"
   ]
  },
  {
   "cell_type": "code",
   "execution_count": null,
   "metadata": {
    "collapsed": true
   },
   "outputs": [],
   "source": [
    "%reload_ext version_information\n",
    "\n",
    "%version_information numpy, matplotlib, sympy"
   ]
  }
 ],
 "metadata": {
  "kernelspec": {
   "display_name": "Python 3",
   "language": "python",
   "name": "python3"
  },
  "language_info": {
   "codemirror_mode": {
    "name": "ipython",
    "version": 3
   },
   "file_extension": ".py",
   "mimetype": "text/x-python",
   "name": "python",
   "nbconvert_exporter": "python",
   "pygments_lexer": "ipython3",
   "version": "3.7.1"
  }
 },
 "nbformat": 4,
 "nbformat_minor": 1
}
