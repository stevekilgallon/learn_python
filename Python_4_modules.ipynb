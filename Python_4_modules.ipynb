{
 "cells": [
  {
   "cell_type": "markdown",
   "metadata": {},
   "source": [
    " # Using the interactive python Notebook. \n",
    "\n",
    "To use the notebook you need to select the block of code \"by clicking on the cell” and then click the Run button at the top of the page.\n",
    "You can alter the code inside the cell block and see what effect it has!\n"
   ]
  },
  {
   "cell_type": "markdown",
   "metadata": {},
   "source": [
    "## Python Basics Part 4."
   ]
  },
  {
   "cell_type": "markdown",
   "metadata": {},
   "source": [
    "## Modules"
   ]
  },
  {
   "cell_type": "markdown",
   "metadata": {},
   "source": [
    "Most One of the aspects of python that makes it popular and useful are modules.\n",
    "\n",
    "You can think of a module as a program written by someone else that you can use in your\n",
    "own programs. A module can include classes and functions. It can be part of Python’s\n",
    "standard library or distributed from a third-party location.\n",
    "\n",
    "To use a module in a Python program it first has to be imported. A module can be imported\n",
    "using the import statement. For example, to import the module math, which contains many\n",
    "standard mathematical functions, we can do:"
   ]
  },
  {
   "cell_type": "code",
   "execution_count": null,
   "metadata": {},
   "outputs": [],
   "source": [
    "import math"
   ]
  },
  {
   "cell_type": "markdown",
   "metadata": {},
   "source": [
    "This includes the whole module and makes it available for use later in the program. For\n",
    "example, we can do:"
   ]
  },
  {
   "cell_type": "code",
   "execution_count": null,
   "metadata": {},
   "outputs": [],
   "source": [
    "import math\n",
    "x = math.cos(2 * math.pi)\n",
    "print(x)"
   ]
  },
  {
   "cell_type": "markdown",
   "metadata": {},
   "source": [
    "Alternatively, we can chose to import all symbols (functions and variables) in a module to\n",
    "the current namespace (so that we don't need to use the pre_x \\math.\" every time we use\n",
    "something from the math module:"
   ]
  },
  {
   "cell_type": "code",
   "execution_count": null,
   "metadata": {},
   "outputs": [],
   "source": [
    "from math import *\n",
    "x = cos(2 * pi)\n",
    "print(x)"
   ]
  },
  {
   "cell_type": "markdown",
   "metadata": {},
   "source": [
    "This pattern can be very convenient, but in large programs that include many modules it is\n",
    "often a good idea to keep the symbols from each module in their own namespaces, by using\n",
    "the import math pattern. This would eliminate potentially confusing problems with name\n",
    "space collisions."
   ]
  },
  {
   "cell_type": "markdown",
   "metadata": {},
   "source": [
    "As a third alternative, we can chose to import only a few selected symbols from a module by\n",
    "explicitly listing which ones we want to import instead of using the wildcard character *:"
   ]
  },
  {
   "cell_type": "code",
   "execution_count": null,
   "metadata": {},
   "outputs": [],
   "source": [
    "from math import cos, pi\n",
    "x = cos(2 * pi)\n",
    "print(x)"
   ]
  },
  {
   "cell_type": "markdown",
   "metadata": {},
   "source": [
    "Once a module is imported, we can list the symbols it provides using the dir function:"
   ]
  },
  {
   "cell_type": "code",
   "execution_count": null,
   "metadata": {},
   "outputs": [],
   "source": [
    "import math\n",
    "print(dir(math))"
   ]
  },
  {
   "cell_type": "markdown",
   "metadata": {},
   "source": [
    "Modules can contain more than just functions. Module math, for example, also defines\n",
    "some variables like pi and e. Once the module has been imported, you can use these\n",
    "variables like any others:\n",
    "Below is an example of importing the random number module."
   ]
  },
  {
   "cell_type": "code",
   "execution_count": null,
   "metadata": {},
   "outputs": [],
   "source": [
    "from random import randint\n",
    "\n",
    "random_num = randint(1,100)  #This generates a random number between 1 and 100.\n",
    "\n",
    "print (random_num)\n"
   ]
  },
  {
   "cell_type": "markdown",
   "metadata": {},
   "source": [
    "The range() limitation overcome!\n",
    "Before when using range we noted that we could only use integers, we can get around this by importing **arange** from numpy.\n",
    "**numpy** (numerical python) is a very useful module that contains lots of useful functions."
   ]
  },
  {
   "cell_type": "code",
   "execution_count": null,
   "metadata": {
    "scrolled": true
   },
   "outputs": [],
   "source": [
    "from numpy import arange\n",
    "for i in arange(-10,10,0.5):\n",
    "    print(i)"
   ]
  },
  {
   "cell_type": "code",
   "execution_count": null,
   "metadata": {},
   "outputs": [],
   "source": [
    "from math import cos, sin, pi\n",
    "from numpy import arange\n",
    "for i in arange(-2*pi,2*pi,pi/4):\n",
    "    print(\"cos\",i,\"is \",cos(i))\n",
    "\n",
    "#We could have also used the same code if we did\n",
    "#from math import *\n",
    "#from numpy import *\n"
   ]
  },
  {
   "cell_type": "code",
   "execution_count": null,
   "metadata": {
    "scrolled": true
   },
   "outputs": [],
   "source": [
    "#If we just import the module then everytime we want to use one of \n",
    "#its functions we have to put math or numpy infromt of it.\n",
    "import math\n",
    "import numpy \n",
    "for i in numpy.arange(-2*math.pi,2*math.pi,math.pi/4):\n",
    "    print(\"cos\",i,\"is \",math.cos(i))"
   ]
  },
  {
   "cell_type": "markdown",
   "metadata": {},
   "source": [
    "## Simplifying module names"
   ]
  },
  {
   "cell_type": "markdown",
   "metadata": {},
   "source": [
    "When we import modules as\n",
    "\n",
    "**import math**\n",
    "\n",
    "**import numpy**\n",
    "\n",
    "we have to put the module name infront of each of that modules function such as **numpy.arange** and **math.cos**\n",
    "\n",
    "To make life easier we can simplify the by simplifying the modules name when we import.\n",
    "So now we can do\n",
    "\n",
    "**import ma**\n",
    "\n",
    "**import np**\n",
    "\n",
    "Which would allow us to write  **np.arange**  and **ma.cos**\n"
   ]
  },
  {
   "cell_type": "markdown",
   "metadata": {},
   "source": [
    "# Another way of getting a list of numbers with numpy"
   ]
  },
  {
   "cell_type": "markdown",
   "metadata": {},
   "source": [
    "As well as the basic arange() function, the module *numpy** also contains the linspace function which can be used to create a\n",
    "list of values. Essentialy you give this function a start and end value, then tell it how many divisions you want.\n",
    "\n",
    "**numpy.linspace(start = 0, stop = 100, num = 5)**\n",
    "\n",
    "**Or more simply numpy.linspace(0,100,5)**\n",
    "\n",
    "This will produce the list of numbers **0,25,50,75,100**\n",
    "Lets see an example below."
   ]
  },
  {
   "cell_type": "code",
   "execution_count": null,
   "metadata": {},
   "outputs": [],
   "source": [
    "import numpy as np  #her we import numpy and call it np\n",
    "\n",
    "for i in np.linspace(0,100,5):   #rather than use nump.linspace we can now say np.linspace\n",
    "    print(i)"
   ]
  }
 ],
 "metadata": {
  "kernelspec": {
   "display_name": "Python 3",
   "language": "python",
   "name": "python3"
  },
  "language_info": {
   "codemirror_mode": {
    "name": "ipython",
    "version": 3
   },
   "file_extension": ".py",
   "mimetype": "text/x-python",
   "name": "python",
   "nbconvert_exporter": "python",
   "pygments_lexer": "ipython3",
   "version": "3.7.4"
  }
 },
 "nbformat": 4,
 "nbformat_minor": 4
}
