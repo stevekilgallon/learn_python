{
 "cells": [
  {
   "cell_type": "markdown",
   "metadata": {},
   "source": [
    " # Using the interactive python Notebook. \n",
    "\n",
    "To use the notebook you need to select the block of code \"by clicking on the cell” and then click the Run button at the top of the page.\n",
    "You can alter the code inside the cell block and see what effect it has!\n"
   ]
  },
  {
   "cell_type": "markdown",
   "metadata": {},
   "source": [
    "## Plotting graphs with matplotlib   1."
   ]
  },
  {
   "cell_type": "markdown",
   "metadata": {},
   "source": [
    "### Matplotlib.pyplot"
   ]
  },
  {
   "cell_type": "markdown",
   "metadata": {},
   "source": [
    "Each pyplot function makes some change to a figure: e.g., creates a figure, creates a plotting\n",
    "area in a figure, plots some lines in a plotting area, decorates the plot with labels, etc."
   ]
  },
  {
   "cell_type": "code",
   "execution_count": null,
   "metadata": {},
   "outputs": [],
   "source": [
    "import matplotlib.pyplot as plt  #This imports the module and names it plt\n",
    "plt.plot([1, 2, 3, 4])\n",
    "plt.ylabel('some numbers')\n",
    "\n",
    "plt.show() #This actually plots it to the screen"
   ]
  },
  {
   "cell_type": "markdown",
   "metadata": {},
   "source": [
    "We will now look at several ways of producing different graphs and effects."
   ]
  },
  {
   "cell_type": "code",
   "execution_count": null,
   "metadata": {
    "scrolled": true
   },
   "outputs": [],
   "source": [
    "#Formatting the style of your plot\n",
    "\n",
    "import matplotlib.pyplot as plt\n",
    "plt.plot([1, 2, 3, 4], [1, 4, 9, 16], 'ro') #ro plots circles\n",
    "#plt.plot([1, 2, 3, 4], [1, 4, 9, 16]) #curve\n",
    "plt.axis([0, 6, 0, 20])\n",
    "\n",
    "plt.show()"
   ]
  },
  {
   "cell_type": "markdown",
   "metadata": {},
   "source": [
    "In the code above comment out the circle plot line and uncomment the curve.\n",
    "You see that if we don't specify points then a curve is drawn."
   ]
  },
  {
   "cell_type": "code",
   "execution_count": null,
   "metadata": {
    "scrolled": true
   },
   "outputs": [],
   "source": [
    "#More ways to generate data points\n",
    "\n",
    "import matplotlib.pyplot as plt\n",
    "x_numbers = [1, 2, 3]\n",
    "y_numbers = [2, 4, 6]\n",
    "plt.plot(x_numbers, y_numbers, 'bs',) #Plots graph of x_numbers against y_numbers using ‘bs’ blue squares\n",
    "plt.show()"
   ]
  },
  {
   "cell_type": "markdown",
   "metadata": {},
   "source": [
    "# Explain how x = range(0,10) makes a array of values ??????"
   ]
  },
  {
   "cell_type": "code",
   "execution_count": null,
   "metadata": {},
   "outputs": [],
   "source": [
    "import matplotlib.pyplot as plt\n",
    "x = range(0,10)\n",
    "y = range(0,20,2)\n",
    "plt.plot(x,y,'g^') #Plots graph of x against y printing 'g^' green triangles\n",
    "plt.show()"
   ]
  },
  {
   "cell_type": "code",
   "execution_count": null,
   "metadata": {},
   "outputs": [],
   "source": [
    "#Using numpy to create a range of points\n",
    "\n",
    "import matplotlib.pyplot as plt\n",
    "import numpy as np\n",
    "# evenly interval of 0.2 over a range of 0-5\n",
    "t = np.arange(0., 5., 0.2) #numpy arrange function generates the values of t\n",
    "plt.plot(t, t**2)  #Plots graph of t against t^2 using a smooth curve\n",
    "plt.show()\n"
   ]
  },
  {
   "cell_type": "markdown",
   "metadata": {},
   "source": [
    "Now we can easily print several curves on the same graph, replace the plt.plot line above with"
   ]
  },
  {
   "cell_type": "code",
   "execution_count": null,
   "metadata": {
    "scrolled": true
   },
   "outputs": [],
   "source": [
    "#Using numpy to create a range of points\n",
    "\n",
    "import matplotlib.pyplot as plt\n",
    "import numpy as np\n",
    "# evenly interval of 0.2 over a range of 0-5\n",
    "t = np.arange(0., 5., 0.2) #numpy arrange function\n",
    "plt.plot(t, t, 'r--', t, t**2, 'bs', t, t**3, 'g^') #Plots graph of (t v t) and (t v t^2) and (t v t^3)\n",
    "\n",
    "plt.show()"
   ]
  },
  {
   "cell_type": "code",
   "execution_count": null,
   "metadata": {},
   "outputs": [],
   "source": [
    "import matplotlib.pyplot as plt\n",
    "import numpy as np\n",
    "# build the x,y axes and plot them\n",
    "plt.title(\"sin and cos\")\n",
    "plt.xlabel('x-axis')\n",
    "plt.ylabel('y-axis')\n",
    "# evenly spaced interval of 0.01 over a range of -3.14 to 3.14\n",
    "x = np.arange(-3.14, 3.14, 0.01) # create x-data\n",
    "sin_y = np.sin(x) # compute y - data\n",
    "cos_y = np.cos(x) # compute y - data\n",
    "# red dashes, blue dashes\n",
    "plt.plot(x, sin_y,'r--', x, cos_y,'b--') # Plots graph of (x v sin_y) and (x v cosy_y)\n",
    "plt.show()\n"
   ]
  },
  {
   "cell_type": "markdown",
   "metadata": {},
   "source": [
    "## Simplifying module names"
   ]
  },
  {
   "cell_type": "markdown",
   "metadata": {},
   "source": [
    "When we import modules as\n",
    "\n",
    "**import math**\n",
    "\n",
    "**import numpy**\n",
    "\n",
    "we have to put the module name infront of each of that modules function such as **numpy.arange** and **math.cos**\n",
    "\n",
    "To make life easier we can simplify the by simplifying the modules name when we import.\n",
    "So now we can do\n",
    "\n",
    "**import ma**\n",
    "\n",
    "**import np**\n",
    "\n",
    "Which would allow us to write  **np.arange**  and **ma.cos**\n"
   ]
  },
  {
   "cell_type": "markdown",
   "metadata": {},
   "source": [
    "# Another way of getting a list of numbers with numpy"
   ]
  },
  {
   "cell_type": "markdown",
   "metadata": {},
   "source": [
    "As well as the basic arange() function, the module *numpy** also contains the linspace function which can be used to create a\n",
    "list of values. Essentialy you give this function a start and end value, then tell it how many divisions you want.\n",
    "\n",
    "**numpy.linspace(start = 0, stop = 100, num = 5)**\n",
    "\n",
    "**Or more simply numpy.linspace(0,100,5)**\n",
    "\n",
    "This will produce the list of numbers **0,25,50,75,100**\n",
    "Lets see an example below."
   ]
  },
  {
   "cell_type": "code",
   "execution_count": null,
   "metadata": {},
   "outputs": [],
   "source": [
    "import numpy as np  #her we import numpy and call it np\n",
    "\n",
    "for i in np.linspace(0,100,5):   #rather than use nump.linspace we can now say np.linspace\n",
    "    print(i)"
   ]
  },
  {
   "cell_type": "code",
   "execution_count": null,
   "metadata": {},
   "outputs": [],
   "source": []
  }
 ],
 "metadata": {
  "kernelspec": {
   "display_name": "Python 3",
   "language": "python",
   "name": "python3"
  },
  "language_info": {
   "codemirror_mode": {
    "name": "ipython",
    "version": 3
   },
   "file_extension": ".py",
   "mimetype": "text/x-python",
   "name": "python",
   "nbconvert_exporter": "python",
   "pygments_lexer": "ipython3",
   "version": "3.7.4"
  }
 },
 "nbformat": 4,
 "nbformat_minor": 4
}
