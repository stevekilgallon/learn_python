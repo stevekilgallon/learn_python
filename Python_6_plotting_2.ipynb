{
 "cells": [
  {
   "cell_type": "markdown",
   "metadata": {},
   "source": [
    " # Using the interactive python Notebook. \n",
    "\n",
    "To use the notebook you need to select the block of code \"by clicking on the cell” and then click the Run button at the top of the page.\n",
    "You can alter the code inside the cell block and see what effect it has!\n"
   ]
  },
  {
   "cell_type": "markdown",
   "metadata": {},
   "source": [
    "## Plotting graphs with matplotlib   2."
   ]
  },
  {
   "cell_type": "markdown",
   "metadata": {},
   "source": [
    "### More Graphs"
   ]
  },
  {
   "cell_type": "raw",
   "metadata": {},
   "source": [
    "Barcharts"
   ]
  },
  {
   "cell_type": "code",
   "execution_count": null,
   "metadata": {},
   "outputs": [],
   "source": [
    "import matplotlib.pyplot as plt\n",
    "x = [\"A\", \"B\", \"C\", \"D\"]\n",
    "y = [3, 10, 7, 5]\n",
    "width = 0.5\n",
    "plt.bar(x, y, width, color=\"blue\") #Vertical print\n",
    "plt.show()"
   ]
  },
  {
   "cell_type": "markdown",
   "metadata": {},
   "source": [
    "To change this to print horizontal alter the following lines.\n",
    "plt.barh(x, y, width, color=\"blue\") #Horizontal print"
   ]
  },
  {
   "cell_type": "code",
   "execution_count": null,
   "metadata": {
    "scrolled": true
   },
   "outputs": [],
   "source": [
    "import matplotlib.pyplot as plt\n",
    "x = [\"A\", \"B\", \"C\", \"D\"]\n",
    "y = [3, 10, 7, 5]\n",
    "width = 0.5\n",
    "#plt.bar(x, y, width, color=\"blue\") #Vertical print\n",
    "plt.barh(x, y, width, color=\"blue\") #Horizontal print\n",
    "plt.show()"
   ]
  },
  {
   "cell_type": "markdown",
   "metadata": {},
   "source": [
    "We can add labels and gridlines."
   ]
  },
  {
   "cell_type": "code",
   "execution_count": null,
   "metadata": {
    "scrolled": true
   },
   "outputs": [],
   "source": [
    "import matplotlib.pyplot as plt\n",
    "x = [\"A\", \"B\", \"C\", \"D\"]\n",
    "y = [3, 10, 7, 5]\n",
    "width = 0.5\n",
    "\n",
    "#plt.bar(x, y, width, color=\"blue\") #Vertical print\n",
    "plt.barh(x, y, width, color=\"blue\") #Horizontal print\n",
    "plt.xlabel(\"Letter\")\n",
    "plt.ylabel(\"Value\")\n",
    "plt.title(\"Put your\\n\" + \"Title here\")\n",
    "\n",
    "# Turn on the grid\n",
    "plt.minorticks_on()\n",
    "plt.grid(which='major', linestyle='-', linewidth='0.5', color='red')\n",
    "\n",
    "# Customize the minor grid\n",
    "plt.grid(which='minor', linestyle=':', linewidth='0.5', color='black')\n",
    "plt.show()"
   ]
  },
  {
   "cell_type": "markdown",
   "metadata": {},
   "source": [
    "#You can also save the output to a file using plt.savefig <br>\n",
    "#import matplotlib.pyplot as plt <br>\n",
    "\n",
    "x = [\"A\", \"B\", \"C\", \"D\"] <br>\n",
    "y = [3, 10, 7, 5] <br>\n",
    "width = 0.5 <br>\n",
    "plt.barh(x, y, width, color=\"blue\") <br>\n",
    "**plt.savefig(\"test_print1\") #prints to file** <br>\n",
    "plt.show() <br>\n"
   ]
  },
  {
   "cell_type": "markdown",
   "metadata": {},
   "source": [
    "## To make a pie chart "
   ]
  },
  {
   "cell_type": "code",
   "execution_count": null,
   "metadata": {},
   "outputs": [],
   "source": [
    "#To make a pie chart\n",
    "\n",
    "import matplotlib.pyplot as plt\n",
    "# Data to plot\n",
    "labels = ['A', 'B', 'C', 'D']\n",
    "sizes = [215, 130, 245, 210]\n",
    "colors = ['gold', 'yellowgreen', 'lightcoral', 'lightskyblue']\n",
    "explode = (0.1, 0, 0, 0) # explode 1st slice\n",
    "# Plot\n",
    "plt.pie(sizes, explode=explode, labels=labels, colors=colors,\n",
    "autopct='%1.1f%%', shadow=True, startangle=140)\n",
    "plt.axis('equal')\n",
    "plt.show()\n",
    "plt.savefig(\"pi_chart_1\")"
   ]
  },
  {
   "cell_type": "code",
   "execution_count": null,
   "metadata": {},
   "outputs": [],
   "source": []
  }
 ],
 "metadata": {
  "kernelspec": {
   "display_name": "Python 3",
   "language": "python",
   "name": "python3"
  },
  "language_info": {
   "codemirror_mode": {
    "name": "ipython",
    "version": 3
   },
   "file_extension": ".py",
   "mimetype": "text/x-python",
   "name": "python",
   "nbconvert_exporter": "python",
   "pygments_lexer": "ipython3",
   "version": "3.7.4"
  }
 },
 "nbformat": 4,
 "nbformat_minor": 4
}
